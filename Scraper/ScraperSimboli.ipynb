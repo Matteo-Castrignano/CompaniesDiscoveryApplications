{
 "cells": [
  {
   "cell_type": "code",
   "execution_count": 14,
   "metadata": {},
   "outputs": [],
   "source": [
    "import re \n",
    "import json\n",
    "import csv\n",
    "from io import StringIO\n",
    "from bs4 import BeautifulSoup\n",
    "import requests"
   ]
  },
  {
   "cell_type": "code",
   "execution_count": 15,
   "metadata": {},
   "outputs": [],
   "source": [
    "url = \"https://finance.yahoo.com/screener/unsaved/8294bad7-bc76-47f8-a1f1-d1d8319a0c6d?count=100&offset={}\"\n",
    "offset = 0"
   ]
  },
  {
   "cell_type": "code",
   "execution_count": 16,
   "metadata": {},
   "outputs": [],
   "source": [
    "f = open(\"ListaSimboli.txt\", \"w\")"
   ]
  },
  {
   "cell_type": "code",
   "execution_count": 17,
   "metadata": {},
   "outputs": [],
   "source": [
    "while offset < 4200:\n",
    "    response = requests.get(url.format(offset))\n",
    "    soup = BeautifulSoup(response.text, 'html.parser')\n",
    "    index = soup.find_all('a', {'class':'Fw(600) C($linkColor)'})\n",
    "   \n",
    "    for i in range(100):\n",
    "        try:\n",
    "            f.write(index[i].text+\"\\n\" )\n",
    "            f.flush()\n",
    "        except:\n",
    "            break\n",
    "    \n",
    "    offset = offset + 100\n",
    "    \n",
    "f.close()"
   ]
  },
  {
   "cell_type": "code",
   "execution_count": null,
   "metadata": {},
   "outputs": [],
   "source": []
  }
 ],
 "metadata": {
  "kernelspec": {
   "display_name": "Python 3",
   "language": "python",
   "name": "python3"
  },
  "language_info": {
   "codemirror_mode": {
    "name": "ipython",
    "version": 3
   },
   "file_extension": ".py",
   "mimetype": "text/x-python",
   "name": "python",
   "nbconvert_exporter": "python",
   "pygments_lexer": "ipython3",
   "version": "3.8.5"
  }
 },
 "nbformat": 4,
 "nbformat_minor": 4
}
