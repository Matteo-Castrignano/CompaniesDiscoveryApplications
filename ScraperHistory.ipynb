{
 "cells": [
  {
   "cell_type": "code",
   "execution_count": 2,
   "metadata": {},
   "outputs": [],
   "source": [
    "import re\n",
    "import json\n",
    "import csv\n",
    "from datetime import date\n",
    "from datetime import timedelta\n",
    "from datetime import datetime\n",
    "from io import StringIO\n",
    "from bs4 import BeautifulSoup\n",
    "import requests"
   ]
  },
  {
   "cell_type": "code",
   "execution_count": 3,
   "metadata": {},
   "outputs": [],
   "source": [
    "f = open(\"ListaSimboli.txt\", \"r\")\n",
    "for s in f: \n",
    "    \n",
    "    stock= s.strip()\n",
    "    \n",
    "    stock_url = 'https://query1.finance.yahoo.com/v7/finance/download/{}?'\n",
    "\n",
    "    params = {\n",
    "        'period1':'1579167547',\n",
    "        'period2':'1610789947',\n",
    "        'interval':'1d',\n",
    "        'events':'history',\n",
    "        'includeAdjustedClose':'true'\n",
    "    }\n",
    "    \n",
    "    response = requests.get(stock_url.format(stock.strip()),params=params)    \n",
    "    \n",
    "    file = StringIO(response.text)\n",
    "    data = {}\n",
    "    number_line = len(file.readlines())-1\n",
    "    file = StringIO(response.text)\n",
    "    csvReader = csv.DictReader(file)\n",
    "    index=1\n",
    "\n",
    "    with open(\"History\"+stock+\".json\", \"w\") as jsonFile:\n",
    "        jsonFile.write(\"[\")\n",
    "        for row in csvReader:\n",
    "            data = row\n",
    "            data [\"stock\"] = stock \n",
    "            jsonFile.write(json.dumps(data, indent=3))\n",
    "            if index < number_line:\n",
    "                jsonFile.write(\",\")\n",
    "            index+=1\n",
    "        jsonFile.write(\"]\")\n",
    "    jsonFile.close()\n",
    "    \n",
    "f.close()"
   ]
  },
  {
   "cell_type": "code",
   "execution_count": null,
   "metadata": {},
   "outputs": [],
   "source": []
  }
 ],
 "metadata": {
  "kernelspec": {
   "display_name": "Python 3",
   "language": "python",
   "name": "python3"
  },
  "language_info": {
   "codemirror_mode": {
    "name": "ipython",
    "version": 3
   },
   "file_extension": ".py",
   "mimetype": "text/x-python",
   "name": "python",
   "nbconvert_exporter": "python",
   "pygments_lexer": "ipython3",
   "version": "3.8.5"
  }
 },
 "nbformat": 4,
 "nbformat_minor": 4
}
